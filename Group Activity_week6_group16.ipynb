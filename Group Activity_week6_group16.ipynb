{
 "cells": [
  {
   "cell_type": "code",
   "execution_count": 1,
   "id": "fa88e541",
   "metadata": {},
   "outputs": [],
   "source": [
    "import numpy as np\n",
    "import pandas as pd\n",
    "import matplotlib.pyplot as plt\n",
    "import seaborn as sns"
   ]
  },
  {
   "cell_type": "code",
   "execution_count": 5,
   "id": "8ee93233",
   "metadata": {},
   "outputs": [
    {
     "data": {
      "text/html": [
       "<div>\n",
       "<style scoped>\n",
       "    .dataframe tbody tr th:only-of-type {\n",
       "        vertical-align: middle;\n",
       "    }\n",
       "\n",
       "    .dataframe tbody tr th {\n",
       "        vertical-align: top;\n",
       "    }\n",
       "\n",
       "    .dataframe thead th {\n",
       "        text-align: right;\n",
       "    }\n",
       "</style>\n",
       "<table border=\"1\" class=\"dataframe\">\n",
       "  <thead>\n",
       "    <tr style=\"text-align: right;\">\n",
       "      <th></th>\n",
       "      <th>country</th>\n",
       "      <th>Region</th>\n",
       "      <th>Surface area (km2)</th>\n",
       "      <th>Population in thousands (2017)</th>\n",
       "      <th>GDP per capita (current US$)</th>\n",
       "      <th>Agricultural production index</th>\n",
       "      <th>International trade: Imports (million US$)</th>\n",
       "    </tr>\n",
       "  </thead>\n",
       "  <tbody>\n",
       "    <tr>\n",
       "      <th>0</th>\n",
       "      <td>United States of America</td>\n",
       "      <td>NorthernAmerica</td>\n",
       "      <td>9833517</td>\n",
       "      <td>324460</td>\n",
       "      <td>56053.8</td>\n",
       "      <td>111</td>\n",
       "      <td>2249661</td>\n",
       "    </tr>\n",
       "    <tr>\n",
       "      <th>1</th>\n",
       "      <td>China</td>\n",
       "      <td>EasternAsia</td>\n",
       "      <td>9600000</td>\n",
       "      <td>1409517</td>\n",
       "      <td>8109.1</td>\n",
       "      <td>132</td>\n",
       "      <td>1588696</td>\n",
       "    </tr>\n",
       "    <tr>\n",
       "      <th>2</th>\n",
       "      <td>Germany</td>\n",
       "      <td>WesternEurope</td>\n",
       "      <td>357376</td>\n",
       "      <td>82114</td>\n",
       "      <td>41686.2</td>\n",
       "      <td>111</td>\n",
       "      <td>1060672</td>\n",
       "    </tr>\n",
       "    <tr>\n",
       "      <th>3</th>\n",
       "      <td>United Kingdom</td>\n",
       "      <td>NorthernEurope</td>\n",
       "      <td>242495</td>\n",
       "      <td>66182</td>\n",
       "      <td>44162.4</td>\n",
       "      <td>108</td>\n",
       "      <td>635570</td>\n",
       "    </tr>\n",
       "    <tr>\n",
       "      <th>4</th>\n",
       "      <td>Japan</td>\n",
       "      <td>EasternAsia</td>\n",
       "      <td>377930</td>\n",
       "      <td>127484</td>\n",
       "      <td>34628.7</td>\n",
       "      <td>96</td>\n",
       "      <td>606924</td>\n",
       "    </tr>\n",
       "    <tr>\n",
       "      <th>...</th>\n",
       "      <td>...</td>\n",
       "      <td>...</td>\n",
       "      <td>...</td>\n",
       "      <td>...</td>\n",
       "      <td>...</td>\n",
       "      <td>...</td>\n",
       "      <td>...</td>\n",
       "    </tr>\n",
       "    <tr>\n",
       "      <th>191</th>\n",
       "      <td>Cook Islands</td>\n",
       "      <td>Polynesia</td>\n",
       "      <td>236</td>\n",
       "      <td>17</td>\n",
       "      <td>14118.7</td>\n",
       "      <td>91</td>\n",
       "      <td>98</td>\n",
       "    </tr>\n",
       "    <tr>\n",
       "      <th>192</th>\n",
       "      <td>Marshall Islands</td>\n",
       "      <td>Micronesia</td>\n",
       "      <td>181</td>\n",
       "      <td>53</td>\n",
       "      <td>3452.6</td>\n",
       "      <td>115</td>\n",
       "      <td>86</td>\n",
       "    </tr>\n",
       "    <tr>\n",
       "      <th>193</th>\n",
       "      <td>Micronesia (Federated States of)</td>\n",
       "      <td>Micronesia</td>\n",
       "      <td>702</td>\n",
       "      <td>106</td>\n",
       "      <td>3015.2</td>\n",
       "      <td>99</td>\n",
       "      <td>40</td>\n",
       "    </tr>\n",
       "    <tr>\n",
       "      <th>194</th>\n",
       "      <td>Montserrat</td>\n",
       "      <td>Caribbean</td>\n",
       "      <td>103</td>\n",
       "      <td>5</td>\n",
       "      <td>11553.4</td>\n",
       "      <td>103</td>\n",
       "      <td>36</td>\n",
       "    </tr>\n",
       "    <tr>\n",
       "      <th>195</th>\n",
       "      <td>Tuvalu</td>\n",
       "      <td>Polynesia</td>\n",
       "      <td>26</td>\n",
       "      <td>11</td>\n",
       "      <td>3362.4</td>\n",
       "      <td>110</td>\n",
       "      <td>12</td>\n",
       "    </tr>\n",
       "  </tbody>\n",
       "</table>\n",
       "<p>196 rows × 7 columns</p>\n",
       "</div>"
      ],
      "text/plain": [
       "                              country           Region  Surface area (km2)  \\\n",
       "0            United States of America  NorthernAmerica             9833517   \n",
       "1                               China      EasternAsia             9600000   \n",
       "2                             Germany    WesternEurope              357376   \n",
       "3                      United Kingdom   NorthernEurope              242495   \n",
       "4                               Japan      EasternAsia              377930   \n",
       "..                                ...              ...                 ...   \n",
       "191                      Cook Islands        Polynesia                 236   \n",
       "192                  Marshall Islands       Micronesia                 181   \n",
       "193  Micronesia (Federated States of)       Micronesia                 702   \n",
       "194                        Montserrat        Caribbean                 103   \n",
       "195                            Tuvalu        Polynesia                  26   \n",
       "\n",
       "     Population in thousands (2017)  GDP per capita (current US$)  \\\n",
       "0                            324460                       56053.8   \n",
       "1                           1409517                        8109.1   \n",
       "2                             82114                       41686.2   \n",
       "3                             66182                       44162.4   \n",
       "4                            127484                       34628.7   \n",
       "..                              ...                           ...   \n",
       "191                              17                       14118.7   \n",
       "192                              53                        3452.6   \n",
       "193                             106                        3015.2   \n",
       "194                               5                       11553.4   \n",
       "195                              11                        3362.4   \n",
       "\n",
       "     Agricultural production index   \\\n",
       "0                               111   \n",
       "1                               132   \n",
       "2                               111   \n",
       "3                               108   \n",
       "4                                96   \n",
       "..                              ...   \n",
       "191                              91   \n",
       "192                             115   \n",
       "193                              99   \n",
       "194                             103   \n",
       "195                             110   \n",
       "\n",
       "     International trade: Imports (million US$)  \n",
       "0                                       2249661  \n",
       "1                                       1588696  \n",
       "2                                       1060672  \n",
       "3                                        635570  \n",
       "4                                        606924  \n",
       "..                                          ...  \n",
       "191                                          98  \n",
       "192                                          86  \n",
       "193                                          40  \n",
       "194                                          36  \n",
       "195                                          12  \n",
       "\n",
       "[196 rows x 7 columns]"
      ]
     },
     "execution_count": 5,
     "metadata": {},
     "output_type": "execute_result"
    }
   ],
   "source": [
    "dataset = pd.read_excel('C:/Users/Lekshmi/Downloads/Dataset_w6.xlsx')\n",
    "dataset"
   ]
  },
  {
   "cell_type": "markdown",
   "id": "3adb8bb2",
   "metadata": {},
   "source": [
    "# 1. Find out how many countries are there in the dataset."
   ]
  },
  {
   "cell_type": "code",
   "execution_count": 6,
   "id": "4fc2b57b",
   "metadata": {},
   "outputs": [
    {
     "data": {
      "text/plain": [
       "196"
      ]
     },
     "execution_count": 6,
     "metadata": {},
     "output_type": "execute_result"
    }
   ],
   "source": [
    "numb = dataset['country'].count()\n",
    "numb"
   ]
  },
  {
   "cell_type": "raw",
   "id": "c0a6109c",
   "metadata": {},
   "source": [
    "There are 196 countries i the given dataset"
   ]
  },
  {
   "cell_type": "markdown",
   "id": "b1cf41e8",
   "metadata": {},
   "source": [
    "# 2. Examine the data by using visualizations."
   ]
  },
  {
   "cell_type": "code",
   "execution_count": 23,
   "id": "39e76431",
   "metadata": {},
   "outputs": [
    {
     "data": {
      "text/plain": [
       "(array([0.  , 0.01, 0.02, 0.03, 0.04, 0.05, 0.06, 0.07, 0.08]),\n",
       " [Text(0, 0, ''),\n",
       "  Text(0, 0, ''),\n",
       "  Text(0, 0, ''),\n",
       "  Text(0, 0, ''),\n",
       "  Text(0, 0, ''),\n",
       "  Text(0, 0, ''),\n",
       "  Text(0, 0, ''),\n",
       "  Text(0, 0, ''),\n",
       "  Text(0, 0, '')])"
      ]
     },
     "execution_count": 23,
     "metadata": {},
     "output_type": "execute_result"
    },
    {
     "data": {
      "image/png": "[encoded data removed]",
      "text/plain": [
       "<Figure size 864x576 with 1 Axes>"
      ]
     },
     "metadata": {
      "needs_background": "light"
     },
     "output_type": "display_data"
    }
   ],
   "source": [
    "plt.figure(figsize=(12,8))\n",
    "plt.hist(dataset['Region'], color='purple',rwidth=0.5,density=True)\n",
    "plt.title('Population Based on Region',fontsize=18)\n",
    "plt.xlabel('Region')\n",
    "plt.ylabel('Population in thousands (2017)')\n",
    "plt.xticks(rotation=90)\n",
    "plt.yticks()"
   ]
  },
  {
   "cell_type": "code",
   "execution_count": 10,
   "id": "f0e27973",
   "metadata": {},
   "outputs": [
    {
     "data": {
      "image/png": "[encoded data removed]",
      "text/plain": [
       "<Figure size 432x288 with 1 Axes>"
      ]
     },
     "metadata": {
      "needs_background": "light"
     },
     "output_type": "display_data"
    }
   ],
   "source": [
    "x=dataset[\"GDP per capita (current US$)\"]\n",
    "y=dataset[\"International trade: Imports (million US$)\"]\n",
    "plt.plot(y, x, linestyle='--', color=\"brown\")\n",
    "plt.title('GDP vs. International Trade')\n",
    "plt.xlabel('GDP')\n",
    "plt.ylabel('International Trade')\n",
    "plt.show()"
   ]
  },
  {
   "cell_type": "code",
   "execution_count": 16,
   "id": "92393f19",
   "metadata": {},
   "outputs": [
    {
     "data": {
      "image/png": "[encoded data removed]",
      "text/plain": [
       "<Figure size 432x288 with 1 Axes>"
      ]
     },
     "metadata": {
      "needs_background": "light"
     },
     "output_type": "display_data"
    }
   ],
   "source": [
    "sns.scatterplot(x='Population in thousands (2017)',y='GDP per capita (current US$)',data=dataset,s=14,color ='green',marker='^')\n",
    "plt.title('Population v/s GDP')\n",
    "plt.show()"
   ]
  },
  {
   "cell_type": "markdown",
   "id": "2246112a",
   "metadata": {},
   "source": [
    "# 3. Find out how many countries with respect to the region are available in the dataset"
   ]
  },
  {
   "cell_type": "code",
   "execution_count": 26,
   "id": "48b7cf35",
   "metadata": {},
   "outputs": [
    {
     "data": {
      "text/plain": [
       "Region\n",
       "Caribbean            16\n",
       "CentralAmerica        8\n",
       "CentralAsia           5\n",
       "EasternAfrica        17\n",
       "EasternAsia           7\n",
       "EasternEurope        10\n",
       "Melanesia             5\n",
       "Micronesia            4\n",
       "MiddleAfrica          9\n",
       "NorthernAfrica        5\n",
       "NorthernAmerica       4\n",
       "NorthernEurope       10\n",
       "Oceania               2\n",
       "Polynesia             5\n",
       "South-easternAsia    11\n",
       "SouthAmerica         12\n",
       "SouthernAfrica        5\n",
       "SouthernAsia          9\n",
       "SouthernEurope       12\n",
       "WesternAfrica        15\n",
       "WesternAsia          18\n",
       "WesternEurope         7\n",
       "Name: country, dtype: int64"
      ]
     },
     "execution_count": 26,
     "metadata": {},
     "output_type": "execute_result"
    }
   ],
   "source": [
    "dataset.groupby('Region')['country'].count()"
   ]
  },
  {
   "cell_type": "markdown",
   "id": "1669b267",
   "metadata": {},
   "source": [
    "# 4. On average which region has the highest\n"
   ]
  },
  {
   "cell_type": "markdown",
   "id": "269c66eb",
   "metadata": {},
   "source": [
    "# a. GDP per capita (current US$)"
   ]
  },
  {
   "cell_type": "code",
   "execution_count": 31,
   "id": "a0283e98",
   "metadata": {},
   "outputs": [
    {
     "data": {
      "text/plain": [
       "Region\n",
       "WesternAfrica         1013.140\n",
       "EasternAfrica         2088.853\n",
       "SouthernAsia          2968.400\n",
       "MiddleAfrica          3928.833\n",
       "NorthernAfrica        3934.960\n",
       "SouthernAfrica        4191.900\n",
       "CentralAsia           4329.880\n",
       "Micronesia            5008.300\n",
       "CentralAmerica        6348.138\n",
       "SouthAmerica          8499.775\n",
       "Polynesia             8686.520\n",
       "Melanesia             9261.960\n",
       "EasternEurope         9292.490\n",
       "South-easternAsia    10299.027\n",
       "SouthernEurope       14462.742\n",
       "Caribbean            15135.562\n",
       "WesternAsia          17013.939\n",
       "EasternAsia          27967.614\n",
       "NorthernEurope       42098.220\n",
       "Oceania              44823.250\n",
       "WesternEurope        55387.129\n",
       "NorthernAmerica      57659.000\n",
       "Name: GDP per capita (current US$), dtype: float64"
      ]
     },
     "execution_count": 31,
     "metadata": {},
     "output_type": "execute_result"
    }
   ],
   "source": [
    "avg_gdp =dataset.groupby('Region')['GDP per capita (current US$)'].mean().round(3).sort_values()\n",
    "avg_gdp"
   ]
  },
  {
   "cell_type": "raw",
   "id": "486cdc66",
   "metadata": {},
   "source": [
    "From the above data we can infer that North American Region has the has the highest average GDP per capita."
   ]
  },
  {
   "cell_type": "markdown",
   "id": "eefecfaa",
   "metadata": {},
   "source": [
    "# b. International trade: Imports (million US$)\n"
   ]
  },
  {
   "cell_type": "code",
   "execution_count": 30,
   "id": "721d6e5d",
   "metadata": {},
   "outputs": [
    {
     "data": {
      "text/plain": [
       "Region\n",
       "Micronesia               99.000\n",
       "Polynesia               432.000\n",
       "Melanesia              2896.400\n",
       "Caribbean              3057.312\n",
       "MiddleAfrica           4381.222\n",
       "EasternAfrica          4726.176\n",
       "WesternAfrica          4898.333\n",
       "CentralAsia           12063.400\n",
       "SouthernAfrica        18005.600\n",
       "SouthAmerica          32885.667\n",
       "NorthernAfrica        35034.400\n",
       "WesternAsia           46025.556\n",
       "CentralAmerica        57031.500\n",
       "SouthernAsia          58199.333\n",
       "SouthernEurope        76666.667\n",
       "EasternEurope         85243.900\n",
       "South-easternAsia     98324.636\n",
       "Oceania              112914.500\n",
       "NorthernEurope       113407.200\n",
       "WesternEurope        407498.429\n",
       "EasternAsia          451995.000\n",
       "NorthernAmerica      663552.250\n",
       "Name: International trade: Imports (million US$), dtype: float64"
      ]
     },
     "execution_count": 30,
     "metadata": {},
     "output_type": "execute_result"
    }
   ],
   "source": [
    "trimp =dataset.groupby('Region')['International trade: Imports (million US$)'].mean().round(3).sort_values()\n",
    "trimp"
   ]
  },
  {
   "cell_type": "raw",
   "id": "8b76dfe5",
   "metadata": {},
   "source": [
    "From the above data we can infer that North American Region has the has the highest international trade imports (million US $)"
   ]
  },
  {
   "cell_type": "markdown",
   "id": "1d113092",
   "metadata": {},
   "source": [
    "# 5. Find out which region has more consistent with respect to GDP per capita (current US$)"
   ]
  },
  {
   "cell_type": "code",
   "execution_count": 33,
   "id": "31c58eeb",
   "metadata": {},
   "outputs": [
    {
     "data": {
      "text/plain": [
       "Region\n",
       "WesternAfrica          815.095\n",
       "NorthernAfrica         974.707\n",
       "SouthernAfrica        2177.551\n",
       "SouthernAsia          2855.708\n",
       "EasternAfrica         3716.132\n",
       "CentralAsia           4152.215\n",
       "CentralAmerica        4180.441\n",
       "SouthAmerica          4273.707\n",
       "Micronesia            4820.670\n",
       "MiddleAfrica          5274.846\n",
       "EasternEurope         5415.489\n",
       "Polynesia             6956.250\n",
       "Oceania               9233.330\n",
       "SouthernEurope        9541.703\n",
       "Melanesia            13855.843\n",
       "Caribbean            14579.371\n",
       "South-easternAsia    16311.811\n",
       "WesternAsia          18812.151\n",
       "NorthernEurope       20671.030\n",
       "WesternEurope        24770.468\n",
       "NorthernAmerica      25749.619\n",
       "EasternAsia          27485.121\n",
       "Name: GDP per capita (current US$), dtype: float64"
      ]
     },
     "execution_count": 33,
     "metadata": {},
     "output_type": "execute_result"
    }
   ],
   "source": [
    "con_reg =dataset.groupby('Region')['GDP per capita (current US$)'].std().round(3).sort_values()\n",
    "con_reg"
   ]
  },
  {
   "cell_type": "raw",
   "id": "800fa6e6",
   "metadata": {},
   "source": [
    "The region with lowest standard deviation  will have less spread or more consistent, so WesternAfrica with 815.095 has more consitent GDP"
   ]
  }
 ],
 "metadata": {
  "kernelspec": {
   "display_name": "Python 3",
   "language": "python",
   "name": "python3"
  },
  "language_info": {
   "codemirror_mode": {
    "name": "ipython",
    "version": 3
   },
   "file_extension": ".py",
   "mimetype": "text/x-python",
   "name": "python",
   "nbconvert_exporter": "python",
   "pygments_lexer": "ipython3",
   "version": "3.8.8"
  }
 },
 "nbformat": 4,
 "nbformat_minor": 5
}
